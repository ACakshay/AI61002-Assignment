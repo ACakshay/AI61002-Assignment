{
  "nbformat": 4,
  "nbformat_minor": 0,
  "metadata": {
    "colab": {
      "name": "DL.ipynb",
      "provenance": [],
      "include_colab_link": true
    },
    "kernelspec": {
      "display_name": "Python 3",
      "language": "python",
      "name": "python3"
    },
    "language_info": {
      "codemirror_mode": {
        "name": "ipython",
        "version": 3
      },
      "file_extension": ".py",
      "mimetype": "text/x-python",
      "name": "python",
      "nbconvert_exporter": "python",
      "pygments_lexer": "ipython3",
      "version": "3.7.3"
    }
  },
  "cells": [
    {
      "cell_type": "markdown",
      "metadata": {
        "id": "view-in-github",
        "colab_type": "text"
      },
      "source": [
        "<a href=\"https://colab.research.google.com/github/ACakshay/AI61002-Assignment/blob/main/Assignment2_18CY20004.ipynb\" target=\"_parent\"><img src=\"https://colab.research.google.com/assets/colab-badge.svg\" alt=\"Open In Colab\"/></a>"
      ]
    },
    {
      "cell_type": "markdown",
      "metadata": {
        "id": "YVT9y8dq9yU0"
      },
      "source": [
        "# Akshay Chordia\n",
        "# 18CY20004"
      ]
    },
    {
      "cell_type": "markdown",
      "metadata": {
        "id": "mMosLysk9yVE"
      },
      "source": [
        "Importing useful libraries"
      ]
    },
    {
      "cell_type": "code",
      "metadata": {
        "id": "ouNx27CLDMoh"
      },
      "source": [
        "import torch\r\n",
        "import torch.nn.functional as F\r\n",
        "import torch.nn as nn\r\n",
        "import numpy as np\r\n",
        "from torchvision import transforms,datasets\r\n",
        "import matplotlib.pyplot as plt"
      ],
      "execution_count": 10,
      "outputs": []
    },
    {
      "cell_type": "markdown",
      "metadata": {
        "id": "_rdRfNb2vtnJ"
      },
      "source": [
        "**Defining Architecture of modal**"
      ]
    },
    {
      "cell_type": "code",
      "metadata": {
        "id": "f9uw_kN1DO5a"
      },
      "source": [
        "class FFNN(nn.Module): #nn.Module --> Base class for all Neural Network modules\r\n",
        "  def __init__(self):\r\n",
        "    super(FFNN, self).__init__() #template\r\n",
        "    \r\n",
        "    self.fc1 = nn.Linear(784, 100)\r\n",
        "    self.fc2 = nn.Linear(100, 10)\r\n",
        "    self.sigmoid = nn.Sigmoid()\r\n",
        "\r\n",
        "  def forward(self, x):\r\n",
        "    x = x.view(-1,28*28)\r\n",
        "    x = self.fc1(x)\r\n",
        "    x = self.sigmoid(x)\r\n",
        "    x = self.fc2(x)\r\n",
        "    x = F.softmax(x, dim=1)\r\n",
        "    return x"
      ],
      "execution_count": 11,
      "outputs": []
    },
    {
      "cell_type": "markdown",
      "metadata": {
        "id": "9G_eJWOmwAxa"
      },
      "source": [
        "Importing data\r\n"
      ]
    },
    {
      "cell_type": "code",
      "metadata": {
        "id": "_E9hJQKoDQf0"
      },
      "source": [
        "apply_transform = transforms.Compose([transforms.ToTensor()])\r\n",
        "trainset = datasets.MNIST(root='./', \r\n",
        "                          train = True, \r\n",
        "                          download = True, \r\n",
        "                          transform = apply_transform\r\n",
        "                          )\r\n",
        "testset = datasets.MNIST(root='./', \r\n",
        "                          train = False, \r\n",
        "                          download = True, \r\n",
        "                          transform = apply_transform\r\n",
        "                          )"
      ],
      "execution_count": 12,
      "outputs": []
    },
    {
      "cell_type": "markdown",
      "metadata": {
        "id": "xU7ePsacwEvb"
      },
      "source": [
        "# Defining Function for modal training and calculation accuracy "
      ]
    },
    {
      "cell_type": "code",
      "metadata": {
        "id": "TeptHN_SDUal"
      },
      "source": [
        "def train_modal(lrate,batch_size,epochcount=range(5)):\r\n",
        "    use_gpu = torch.cuda.is_available()\r\n",
        "    net = FFNN()\r\n",
        "    if use_gpu:\r\n",
        "      print('GPU is available!')\r\n",
        "      net = net.cuda()\r\n",
        "    criterion = nn.CrossEntropyLoss()\r\n",
        "    optime1 = torch.optim.SGD(net.parameters(), lr=lrate)\r\n",
        "    \r\n",
        "    \r\n",
        "\r\n",
        "    trainLoader = torch.utils.data.DataLoader(\r\n",
        "        trainset, \r\n",
        "        batch_size=batch_size,\r\n",
        "        shuffle=True, \r\n",
        "        num_workers=4\r\n",
        "        )\r\n",
        "    testloader = torch.utils.data.DataLoader(\r\n",
        "        testset, \r\n",
        "        batch_size=batch_size,\r\n",
        "        shuffle=True, \r\n",
        "        num_workers=4\r\n",
        "        )\r\n",
        "    losstrain=[]\r\n",
        "    losstest=[]\r\n",
        "    accutest =[]\r\n",
        "    accutrain=[]\r\n",
        "\r\n",
        "    def accuracy(trainloaderr):\r\n",
        "        corr,size=0,0\r\n",
        "        for i, data in enumerate(trainloaderr):\r\n",
        "\r\n",
        "          inputs, labels = data\r\n",
        "          outputs = net(inputs)\r\n",
        "          outputss=torch.argmax(outputs, axis = 1)\r\n",
        "          corr+=sum((outputss==labels))\r\n",
        "          size+=len(labels)\r\n",
        "        return (corr/size)\r\n",
        "    \r\n",
        "    for epoch in epochcount:\r\n",
        "        losstrainbatch=0.0\r\n",
        "        losstestbatch=0.0\r\n",
        "\r\n",
        "        optime1.zero_grad()\r\n",
        "        for i, data in enumerate(trainLoader):\r\n",
        "\r\n",
        "          inputs, labels = data\r\n",
        "          outputs = net(inputs)\r\n",
        "          loss = criterion(outputs,labels)\r\n",
        "          loss.backward()  \r\n",
        "          optime1.step()\r\n",
        "          losstrainbatch+=loss.item()\r\n",
        "        accutrain.append(accuracy(trainLoader))\r\n",
        "\r\n",
        "        losstrain.append(losstrainbatch/len(trainLoader))\r\n",
        "\r\n",
        "\r\n",
        "        print('Training Epoch:  {}/{}, loss: {}, accuracy: {}'.format(epoch+1,epochcount[-1]+1,losstrain[-1],accutrain[-1]))\r\n",
        "        for i, data in enumerate(testloader):\r\n",
        "\r\n",
        "          inputs, labels = data\r\n",
        "          outputs = net(inputs)\r\n",
        "          loss = criterion(outputs,labels)\r\n",
        "          losstestbatch+=loss.item()\r\n",
        "\r\n",
        "        losstest.append(losstestbatch/len(testloader))\r\n",
        "        accutest.append(accuracy(testloader))\r\n",
        "        print('Testing Epoch:  {}/{}, loss: {}, accuracy: {}'.format(epoch+1,epochcount[-1]+1,losstest[-1],accutest[-1]))\r\n",
        "\r\n",
        "\r\n",
        "    plt.title(\"Loss vs Epoch\")\r\n",
        "    plt.xlabel(\"epoch\")\r\n",
        "    plt.ylabel(\"loss\")\r\n",
        "    plt.plot(losstrain,\"r\",label=\"Training Loss\")\r\n",
        "    plt.plot(losstest,\"b\",label=\"Testing Loss\")\r\n",
        "    plt.legend()\r\n",
        "    plt.show()\r\n",
        "\r\n",
        "    plt.title(\"Accuracy vs Epoch\")\r\n",
        "    plt.xlabel(\"epoch\")\r\n",
        "    plt.ylabel(\"Accuracy\")\r\n",
        "    plt.plot(accutrain,\"g\",label=\"Training Accuracy\")\r\n",
        "    plt.plot(accutest,\"pink\",label=\"Testing Accuracy\")\r\n",
        "    plt.legend()\r\n",
        "    plt.show()\r\n",
        "    \r\n",
        "    return losstrain,losstest,accutrain,accutest\r\n",
        "    "
      ],
      "execution_count": 13,
      "outputs": []
    },
    {
      "cell_type": "markdown",
      "metadata": {
        "id": "wAvVxsg-wPOS"
      },
      "source": [
        "#Learning Rate: 0.025\r\n",
        "#Batch size: 256"
      ]
    },
    {
      "cell_type": "code",
      "metadata": {
        "colab": {
          "base_uri": "https://localhost:8080/",
          "height": 1000
        },
        "id": "jOqTpOVWwenH",
        "outputId": "0c20f736-4d86-44e2-c2c9-7e24100b5c86"
      },
      "source": [
        "losstrain1,losstest1,accutrain1,accutest1 = train_modal(0.025,256,range(50))"
      ],
      "execution_count": 14,
      "outputs": [
        {
          "output_type": "stream",
          "text": [
            "Training Epoch:  1/50, loss: 2.128860742487806, accuracy: 0.5608500242233276\n",
            "Testing Epoch:  1/50, loss: 1.8838045954704286, accuracy: 0.5702999830245972\n",
            "Training Epoch:  2/50, loss: 1.830848409267182, accuracy: 0.6537166833877563\n",
            "Testing Epoch:  2/50, loss: 1.802481284737587, accuracy: 0.6585000157356262\n",
            "Training Epoch:  3/50, loss: 1.7951426602424458, accuracy: 0.6694666743278503\n",
            "Testing Epoch:  3/50, loss: 1.7859422862529755, accuracy: 0.673799991607666\n",
            "Training Epoch:  4/50, loss: 1.7859171735479478, accuracy: 0.6777166724205017\n",
            "Testing Epoch:  4/50, loss: 1.7817612826824187, accuracy: 0.6794000267982483\n",
            "Training Epoch:  5/50, loss: 1.7796874528235578, accuracy: 0.6827666759490967\n",
            "Testing Epoch:  5/50, loss: 1.7726707458496094, accuracy: 0.6834999918937683\n",
            "Training Epoch:  6/50, loss: 1.7734780671748709, accuracy: 0.7161333560943604\n",
            "Testing Epoch:  6/50, loss: 1.7455746352672576, accuracy: 0.7139999866485596\n",
            "Training Epoch:  7/50, loss: 1.719336436149922, accuracy: 0.7590500116348267\n",
            "Testing Epoch:  7/50, loss: 1.7027204036712646, accuracy: 0.7609999775886536\n",
            "Training Epoch:  8/50, loss: 1.6963360446564695, accuracy: 0.7694500088691711\n",
            "Testing Epoch:  8/50, loss: 1.691414123773575, accuracy: 0.7712000012397766\n",
            "Training Epoch:  9/50, loss: 1.6895168000079215, accuracy: 0.7752833366394043\n",
            "Testing Epoch:  9/50, loss: 1.6889695346355438, accuracy: 0.7749999761581421\n",
            "Training Epoch:  10/50, loss: 1.6857065748661122, accuracy: 0.7781333327293396\n",
            "Testing Epoch:  10/50, loss: 1.6843692094087601, accuracy: 0.7768999934196472\n",
            "Training Epoch:  11/50, loss: 1.6829057703626917, accuracy: 0.7802500128746033\n",
            "Testing Epoch:  11/50, loss: 1.684102725982666, accuracy: 0.7781000137329102\n",
            "Training Epoch:  12/50, loss: 1.6590992658696275, accuracy: 0.8354666829109192\n",
            "Testing Epoch:  12/50, loss: 1.6301006734371186, accuracy: 0.8377000093460083\n",
            "Training Epoch:  13/50, loss: 1.6142466585686865, accuracy: 0.8556166887283325\n",
            "Testing Epoch:  13/50, loss: 1.609869620203972, accuracy: 0.8532000184059143\n",
            "Training Epoch:  14/50, loss: 1.601593533982622, accuracy: 0.8667500019073486\n",
            "Testing Epoch:  14/50, loss: 1.5996485650539398, accuracy: 0.8628000020980835\n",
            "Training Epoch:  15/50, loss: 1.5951698769914342, accuracy: 0.8712499737739563\n",
            "Testing Epoch:  15/50, loss: 1.592971885204315, accuracy: 0.8689000010490417\n",
            "Training Epoch:  16/50, loss: 1.5914503706262466, accuracy: 0.8731666803359985\n",
            "Testing Epoch:  16/50, loss: 1.5942535758018495, accuracy: 0.8684999942779541\n",
            "Training Epoch:  17/50, loss: 1.5892448323838255, accuracy: 0.8763499855995178\n",
            "Testing Epoch:  17/50, loss: 1.5904217302799224, accuracy: 0.8737000226974487\n",
            "Training Epoch:  18/50, loss: 1.5874884037261314, accuracy: 0.8761500120162964\n",
            "Testing Epoch:  18/50, loss: 1.5918646246194839, accuracy: 0.8708000183105469\n",
            "Training Epoch:  19/50, loss: 1.5860535652079482, accuracy: 0.8782666921615601\n",
            "Testing Epoch:  19/50, loss: 1.5864090830087663, accuracy: 0.8752999901771545\n",
            "Training Epoch:  20/50, loss: 1.5845527177161358, accuracy: 0.8797833323478699\n",
            "Testing Epoch:  20/50, loss: 1.5916550278663635, accuracy: 0.8748999834060669\n",
            "Training Epoch:  21/50, loss: 1.5840484664795247, accuracy: 0.8815666437149048\n",
            "Testing Epoch:  21/50, loss: 1.5846897304058074, accuracy: 0.8766999840736389\n",
            "Training Epoch:  22/50, loss: 1.5819119965776485, accuracy: 0.8824499845504761\n",
            "Testing Epoch:  22/50, loss: 1.584644117951393, accuracy: 0.8780999779701233\n",
            "Training Epoch:  23/50, loss: 1.5809052832583164, accuracy: 0.8841166496276855\n",
            "Testing Epoch:  23/50, loss: 1.5826488494873048, accuracy: 0.880299985408783\n",
            "Training Epoch:  24/50, loss: 1.579229253403684, accuracy: 0.8850833177566528\n",
            "Testing Epoch:  24/50, loss: 1.5834572315216064, accuracy: 0.8801000118255615\n",
            "Training Epoch:  25/50, loss: 1.5784302082467587, accuracy: 0.8856499791145325\n",
            "Testing Epoch:  25/50, loss: 1.5871355146169663, accuracy: 0.880299985408783\n",
            "Training Epoch:  26/50, loss: 1.5774139241969332, accuracy: 0.8867666721343994\n",
            "Testing Epoch:  26/50, loss: 1.5817980080842973, accuracy: 0.8805999755859375\n",
            "Training Epoch:  27/50, loss: 1.577279235454316, accuracy: 0.8865000009536743\n",
            "Testing Epoch:  27/50, loss: 1.5802401065826417, accuracy: 0.8806999921798706\n",
            "Training Epoch:  28/50, loss: 1.5765790777003512, accuracy: 0.8878499865531921\n",
            "Testing Epoch:  28/50, loss: 1.5834259033203124, accuracy: 0.8809000253677368\n",
            "Training Epoch:  29/50, loss: 1.5751431419494304, accuracy: 0.8883500099182129\n",
            "Testing Epoch:  29/50, loss: 1.5788063019514085, accuracy: 0.8809999823570251\n",
            "Training Epoch:  30/50, loss: 1.5746041399367312, accuracy: 0.889033317565918\n",
            "Testing Epoch:  30/50, loss: 1.58096843957901, accuracy: 0.8806999921798706\n",
            "Training Epoch:  31/50, loss: 1.5740668190286515, accuracy: 0.8888999819755554\n",
            "Testing Epoch:  31/50, loss: 1.5824366897344588, accuracy: 0.8812000155448914\n",
            "Training Epoch:  32/50, loss: 1.573894406886811, accuracy: 0.8891666531562805\n",
            "Testing Epoch:  32/50, loss: 1.578659364581108, accuracy: 0.8816999793052673\n",
            "Training Epoch:  33/50, loss: 1.5734571751127853, accuracy: 0.8885166645050049\n",
            "Testing Epoch:  33/50, loss: 1.5819832175970077, accuracy: 0.8792999982833862\n",
            "Training Epoch:  34/50, loss: 1.572810201441988, accuracy: 0.890916645526886\n",
            "Testing Epoch:  34/50, loss: 1.5819880276918412, accuracy: 0.883400022983551\n",
            "Training Epoch:  35/50, loss: 1.5715825598290627, accuracy: 0.8906499743461609\n",
            "Testing Epoch:  35/50, loss: 1.5797627419233322, accuracy: 0.8823000192642212\n",
            "Training Epoch:  36/50, loss: 1.5713325617161202, accuracy: 0.8913000226020813\n",
            "Testing Epoch:  36/50, loss: 1.5773261845111848, accuracy: 0.8841000199317932\n",
            "Training Epoch:  37/50, loss: 1.57038761504153, accuracy: 0.8925999999046326\n",
            "Testing Epoch:  37/50, loss: 1.5767257064580917, accuracy: 0.8842999935150146\n",
            "Training Epoch:  38/50, loss: 1.5700028698495094, accuracy: 0.8920666575431824\n",
            "Testing Epoch:  38/50, loss: 1.5798518538475037, accuracy: 0.8841000199317932\n",
            "Training Epoch:  39/50, loss: 1.5694031811775044, accuracy: 0.8932666778564453\n",
            "Testing Epoch:  39/50, loss: 1.5737148880958558, accuracy: 0.883899986743927\n",
            "Training Epoch:  40/50, loss: 1.5431709071423145, accuracy: 0.9415666460990906\n",
            "Testing Epoch:  40/50, loss: 1.535895213484764, accuracy: 0.932699978351593\n",
            "Training Epoch:  41/50, loss: 1.512736097802507, accuracy: 0.9629166722297668\n",
            "Testing Epoch:  41/50, loss: 1.5119924515485763, accuracy: 0.955299973487854\n",
            "Training Epoch:  42/50, loss: 1.4992794782557386, accuracy: 0.9687166810035706\n",
            "Testing Epoch:  42/50, loss: 1.5053859651088715, accuracy: 0.9595999717712402\n",
            "Training Epoch:  43/50, loss: 1.4954582670901684, accuracy: 0.9722333550453186\n",
            "Testing Epoch:  43/50, loss: 1.5030057311058045, accuracy: 0.9629999995231628\n",
            "Training Epoch:  44/50, loss: 1.4927464890987314, accuracy: 0.973716676235199\n",
            "Testing Epoch:  44/50, loss: 1.501839417219162, accuracy: 0.9642999768257141\n",
            "Training Epoch:  45/50, loss: 1.4911655111515776, accuracy: 0.9757500290870667\n",
            "Testing Epoch:  45/50, loss: 1.4993420898914338, accuracy: 0.9666000008583069\n",
            "Training Epoch:  46/50, loss: 1.489398409457917, accuracy: 0.9777666926383972\n",
            "Testing Epoch:  46/50, loss: 1.498157486319542, accuracy: 0.9668999910354614\n",
            "Training Epoch:  47/50, loss: 1.488015723735728, accuracy: 0.9788166880607605\n",
            "Testing Epoch:  47/50, loss: 1.4971200078725815, accuracy: 0.9677000045776367\n",
            "Training Epoch:  48/50, loss: 1.4869261985129498, accuracy: 0.9795166850090027\n",
            "Testing Epoch:  48/50, loss: 1.4977471768856048, accuracy: 0.9679999947547913\n",
            "Training Epoch:  49/50, loss: 1.486038557519304, accuracy: 0.9800999760627747\n",
            "Testing Epoch:  49/50, loss: 1.496937918663025, accuracy: 0.9678999781608582\n",
            "Training Epoch:  50/50, loss: 1.485062169521413, accuracy: 0.9806833267211914\n",
            "Testing Epoch:  50/50, loss: 1.496421042084694, accuracy: 0.9692000150680542\n"
          ],
          "name": "stdout"
        },
        {
          "output_type": "display_data",
          "data": {
            "image/png": "[encoded data removed]",
            "text/plain": [
              "<Figure size 432x288 with 1 Axes>"
            ]
          },
          "metadata": {
            "tags": [],
            "needs_background": "light"
          }
        },
        {
          "output_type": "display_data",
          "data": {
            "image/png": "[encoded data removed]",
            "text/plain": [
              "<Figure size 432x288 with 1 Axes>"
            ]
          },
          "metadata": {
            "tags": [],
            "needs_background": "light"
          }
        }
      ]
    },
    {
      "cell_type": "markdown",
      "metadata": {
        "id": "qG-vmCSuwrkx"
      },
      "source": [
        "#Learning Rate: 0.05\r\n",
        "#Batch size: 256"
      ]
    },
    {
      "cell_type": "code",
      "metadata": {
        "colab": {
          "base_uri": "https://localhost:8080/"
        },
        "id": "MaDUW7eTwy9S",
        "outputId": "70976ab2-80db-4744-9bab-4146624d2143"
      },
      "source": [
        "losstrain2,losstest2,accutrain2,accutest2 = train_modal(0.05,256,range(50))"
      ],
      "execution_count": null,
      "outputs": [
        {
          "output_type": "stream",
          "text": [
            "Training Epoch:  1/50, loss: 2.0152123801251673, accuracy: 0.7114666700363159\n",
            "Testing Epoch:  1/50, loss: 1.7447433203458786, accuracy: 0.7163000106811523\n",
            "Training Epoch:  2/50, loss: 1.7257985520870127, accuracy: 0.751966655254364\n",
            "Testing Epoch:  2/50, loss: 1.7098383605480194, accuracy: 0.7547000050544739\n",
            "Training Epoch:  3/50, loss: 1.702875401618633, accuracy: 0.7640500068664551\n",
            "Testing Epoch:  3/50, loss: 1.6987845122814178, accuracy: 0.7663999795913696\n",
            "Training Epoch:  4/50, loss: 1.6926603804243372, accuracy: 0.7705833315849304\n",
            "Testing Epoch:  4/50, loss: 1.6896174490451812, accuracy: 0.7717999815940857\n",
            "Training Epoch:  5/50, loss: 1.6879381210245985, accuracy: 0.7734833359718323\n",
            "Testing Epoch:  5/50, loss: 1.6896897584199906, accuracy: 0.7739999890327454\n",
            "Training Epoch:  6/50, loss: 1.6850101998511782, accuracy: 0.7765499949455261\n",
            "Testing Epoch:  6/50, loss: 1.6808164834976196, accuracy: 0.7760999798774719\n",
            "Training Epoch:  7/50, loss: 1.6815324935507268, accuracy: 0.7791833281517029\n",
            "Testing Epoch:  7/50, loss: 1.6899981498718262, accuracy: 0.7766000032424927\n",
            "Training Epoch:  8/50, loss: 1.6803063839039905, accuracy: 0.7782999873161316\n",
            "Testing Epoch:  8/50, loss: 1.683833435177803, accuracy: 0.7750999927520752\n",
            "Training Epoch:  9/50, loss: 1.6788249127408292, accuracy: 0.7809500098228455\n",
            "Testing Epoch:  9/50, loss: 1.6800380438566207, accuracy: 0.7789999842643738\n",
            "Training Epoch:  10/50, loss: 1.676379375762128, accuracy: 0.7844833135604858\n",
            "Testing Epoch:  10/50, loss: 1.6808880805969237, accuracy: 0.7803999781608582\n",
            "Training Epoch:  11/50, loss: 1.675304552849303, accuracy: 0.7848666906356812\n",
            "Testing Epoch:  11/50, loss: 1.6799752324819566, accuracy: 0.7825999855995178\n",
            "Training Epoch:  12/50, loss: 1.672391819446645, accuracy: 0.7873666882514954\n",
            "Testing Epoch:  12/50, loss: 1.6760696411132812, accuracy: 0.7835999727249146\n",
            "Training Epoch:  13/50, loss: 1.6711735365238596, accuracy: 0.7861833572387695\n",
            "Testing Epoch:  13/50, loss: 1.6797481209039689, accuracy: 0.7831000089645386\n",
            "Training Epoch:  14/50, loss: 1.6710902528559908, accuracy: 0.7873833179473877\n",
            "Testing Epoch:  14/50, loss: 1.6741500228643418, accuracy: 0.7829999923706055\n",
            "Training Epoch:  15/50, loss: 1.6695195786496426, accuracy: 0.7893666625022888\n",
            "Testing Epoch:  15/50, loss: 1.6729553073644639, accuracy: 0.7854999899864197\n"
          ],
          "name": "stdout"
        }
      ]
    },
    {
      "cell_type": "markdown",
      "metadata": {
        "id": "n2c9DljWxKOr"
      },
      "source": [
        "#Learning Rate: 0.1\r\n",
        "#Batch size: 256"
      ]
    },
    {
      "cell_type": "code",
      "metadata": {
        "id": "8fHW1tnYxKPC"
      },
      "source": [
        "losstrain3,losstest3,accutrain3,accutest3 = train_modal(0.1,256,range(50))"
      ],
      "execution_count": null,
      "outputs": []
    },
    {
      "cell_type": "markdown",
      "metadata": {
        "id": "3XQQc76SxQme"
      },
      "source": [
        "#Learning Rate: 0.2\r\n",
        "#Batch size: 256"
      ]
    },
    {
      "cell_type": "code",
      "metadata": {
        "id": "PyAQZyq_xQmf"
      },
      "source": [
        "losstrain4,losstest4,accutrain4,accutest4 = train_modal(0.2,256,range(50))"
      ],
      "execution_count": null,
      "outputs": []
    },
    {
      "cell_type": "markdown",
      "metadata": {
        "id": "zbr5mwGcxXi3"
      },
      "source": [
        "#Learning Rate: 0.5\r\n",
        "#Batch size: 256"
      ]
    },
    {
      "cell_type": "code",
      "metadata": {
        "id": "e1a0xBluxXi4"
      },
      "source": [
        "losstrain5,losstest5,accutrain5,accutest5 = train_modal(0.5,256,range(50))"
      ],
      "execution_count": null,
      "outputs": []
    },
    {
      "cell_type": "markdown",
      "metadata": {
        "id": "4nwLRq1MxqQq"
      },
      "source": [
        "# Learning rate: varying \r\n",
        "\r\n",
        "# Batch size : 256"
      ]
    },
    {
      "cell_type": "code",
      "metadata": {
        "id": "hpWdpGu5Ir8-"
      },
      "source": [
        "def modal_train_varylr(lrate,batchsize,eopchcount=range(5))   \r\n",
        "    use_gpu = torch.cuda.is_available()\r\n",
        "    net = FFNN()\r\n",
        "    if use_gpu:\r\n",
        "    #   print('GPU is available!')\r\n",
        "      net = net.cuda()\r\n",
        "    criterion = nn.CrossEntropyLoss()\r\n",
        "    optime1 = torch.optim.SGD(net.parameters(), lr=lrate)\r\n",
        "\r\n",
        "\r\n",
        "\r\n",
        "    trainLoader = torch.utils.data.DataLoader(\r\n",
        "        trainset, \r\n",
        "        batch_size=batch_size,\r\n",
        "        shuffle=True, \r\n",
        "        num_workers=4\r\n",
        "        )\r\n",
        "    testloader = torch.utils.data.DataLoader(\r\n",
        "        testset, \r\n",
        "        batch_size=batch_size,\r\n",
        "        shuffle=True, \r\n",
        "        num_workers=4\r\n",
        "        )\r\n",
        "    losstrain=[]\r\n",
        "    losstest=[]\r\n",
        "    accutest =[]\r\n",
        "    accutrain=[]\r\n",
        "\r\n",
        "    def accuracy(trainloaderr):\r\n",
        "        corr,size=0,0\r\n",
        "        for i, data in enumerate(trainloaderr):\r\n",
        "\r\n",
        "          inputs, labels = data\r\n",
        "          outputs = net(inputs)\r\n",
        "          outputss=torch.argmax(outputs, axis = 1)\r\n",
        "          corr+=sum((outputss==labels))\r\n",
        "          size+=len(labels)\r\n",
        "        return (corr/size)\r\n",
        "\r\n",
        "    for epoch in epochcount:\r\n",
        "        for g in optim6.param_groups:\r\n",
        "          g['lr'] = g['lr']*exp(-(0.1)*eopch))\r\n",
        "\r\n",
        "        losstrainbatch=0.0\r\n",
        "        losstestbatch=0.0\r\n",
        "        losstrainbatch=0.0\r\n",
        "        losstestbatch=0.0\r\n",
        "\r\n",
        "        optime1.zero_grad()\r\n",
        "        for i, data in enumerate(trainLoader):\r\n",
        "\r\n",
        "          inputs, labels = data\r\n",
        "          outputs = net(inputs)\r\n",
        "          loss = criterion(outputs,labels)\r\n",
        "          loss.backward()  \r\n",
        "          optime1.step()\r\n",
        "          losstrainbatch+=loss.item()\r\n",
        "        accutrain.append(accuracy(trainLoader))\r\n",
        "\r\n",
        "        losstrain.append(losstrainbatch/len(trainLoader))\r\n",
        "\r\n",
        "\r\n",
        "        print('Training Epoch:  {}/20, loss: {}, accuracy: {}'.format(epoch+1,losstrain[-1],accutrain[-1]))\r\n",
        "        for i, data in enumerate(testloader):\r\n",
        "\r\n",
        "          inputs, labels = data\r\n",
        "          outputs = net(inputs)\r\n",
        "          loss = criterion(outputs,labels)\r\n",
        "          losstestbatch+=loss.item()\r\n",
        "\r\n",
        "        losstest.append(losstestbatch/len(testloader))\r\n",
        "        accutest.append(accuracy(testloader))\r\n",
        "        print('Testing Epoch:  {}/20, loss: {}, accuracy: {}'.format(epoch+1,losstest[-1],accutest[-1]))\r\n",
        "\r\n",
        "\r\n",
        "    plt.title(\"Loss vs Epoch\")\r\n",
        "    plt.xlabel(\"epoch\")\r\n",
        "    plt.ylabel(\"loss\")\r\n",
        "    plt.plot(losstrain,\"r\",label=\"Training Loss\")\r\n",
        "    plt.plot(losstest,\"b\",label=\"Testing Loss\")\r\n",
        "    plt.legend()\r\n",
        "    plt.show()\r\n",
        "\r\n",
        "    plt.title(\"Accuracy vs Epoch\")\r\n",
        "    plt.xlabel(\"epoch\")\r\n",
        "    plt.ylabel(\"Accuracy\")\r\n",
        "    plt.plot(accutrain,\"g\",label=\"Training Accuracy\")\r\n",
        "    plt.plot(accutest,\"pink\",label=\"Testing Accuracy\")\r\n",
        "    plt.legend()\r\n",
        "    plt.show()\r\n",
        "\r\n",
        "    losstrain6,losstest6,accutrain6,accutest6=losstrain,losstest,accutrain,accutest\r\n",
        "\r\n",
        "modal_train_varylr(0.05,256,range(50))    "
      ],
      "execution_count": null,
      "outputs": []
    },
    {
      "cell_type": "markdown",
      "metadata": {
        "id": "qSpcPTKY0o3n"
      },
      "source": [
        "# Learning rate: 0.1\r\n",
        "\r\n",
        "#  Batch size : varying"
      ]
    },
    {
      "cell_type": "markdown",
      "metadata": {
        "id": "K_MrYbVl1Kog"
      },
      "source": [
        "# Batch size:256"
      ]
    },
    {
      "cell_type": "code",
      "metadata": {
        "id": "AilBtcEi2Eku"
      },
      "source": [
        "losstrain7,losstest7,accutrain7,accutest7 = train_modal(0.1,256,range(50))"
      ],
      "execution_count": null,
      "outputs": []
    },
    {
      "cell_type": "markdown",
      "metadata": {
        "id": "W0Xv06Mk1LAu"
      },
      "source": [
        "# Batch size:1024"
      ]
    },
    {
      "cell_type": "code",
      "metadata": {
        "id": "XMrXdVth1IoE"
      },
      "source": [
        "losstrain8,losstest8,accutrain8,accutest8 = train_modal(0.1,1024,range(50))"
      ],
      "execution_count": null,
      "outputs": []
    }
  ]
}